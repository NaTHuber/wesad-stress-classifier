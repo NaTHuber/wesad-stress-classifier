{
 "cells": [
  {
   "cell_type": "markdown",
   "id": "d2927156",
   "metadata": {},
   "source": [
    "# Etapa 2 - Paso 2: Extracción de features multi-sujeto \n",
    "\n",
    "```mermaid\n",
    "    graph LR\n",
    "        A[1 <br> Detecta carpetas de sujetos automáticamente]-->B[ 2 <br> Carga de señales por sujeto]\n",
    "        B-->C[3 <br> Ventaneo]\n",
    "        C-->D[4 <br> Asignar etiqueta a la ventana - moda]\n",
    "        D-->E[5 <br> Extraer features y almacenar si la etiqueta es 1, 2 o 3]\n",
    "        E-->F[6 <br> Construir DataFrame]\n",
    "        F-->G[7 <br> Guardar en un CSV]\n",
    "```"
   ]
  },
  {
   "cell_type": "code",
   "execution_count": 1,
   "id": "0ac8737b",
   "metadata": {},
   "outputs": [],
   "source": [
    "import os\n",
    "import re\n",
    "import pickle\n",
    "import numpy as np\n",
    "import pandas as pd\n",
    "from scipy.stats import mode\n",
    "\n",
    "\n",
    "PATH_BASE = r\"C:/Users/nat27/Desktop/Desktop/Proyectos/CienciaDatos/wesad-stress-classifier/data/WESAD\"\n",
    "\n",
    "EXCLUDE = {\"S1\", \"S12\"}  # sujetos a descartar\n",
    "FS_TARGET = 4  # Hz después del resampleo\n",
    "WINDOW_SEC = 60\n",
    "STEP_SEC = 30\n",
    "\n",
    "# Función auxiliar: extraer features de una ventana (Paso 5)\n",
    "def extract_features(temp_win, eda_win, bvp_win):\n",
    "    def feats(sig):\n",
    "        return [\n",
    "            np.mean(sig),\n",
    "            np.std(sig),\n",
    "            np.max(sig),\n",
    "            np.min(sig),\n",
    "            np.max(sig) - np.min(sig),\n",
    "            np.mean(np.diff(sig))\n",
    "        ]\n",
    "    return feats(temp_win) + feats(eda_win) + feats(bvp_win)\n",
    "\n"
   ]
  },
  {
   "cell_type": "code",
   "execution_count": 2,
   "id": "6da307e0",
   "metadata": {},
   "outputs": [
    {
     "name": "stdout",
     "output_type": "stream",
     "text": [
      "Sujetos detectados: ['S2', 'S3', 'S4', 'S5', 'S6', 'S7', 'S8', 'S9', 'S10', 'S11', 'S13', 'S14', 'S15', 'S16', 'S17']\n"
     ]
    }
   ],
   "source": [
    "# 1) Detectar carpetas de sujetos automáticamente\n",
    "subject_dirs = []\n",
    "if os.path.isdir(PATH_BASE):\n",
    "    for name in os.listdir(PATH_BASE):\n",
    "        if re.fullmatch(r\"S\\d+\", name) and name not in EXCLUDE:\n",
    "            pkl_path = os.path.join(PATH_BASE, name, f\"{name}.pkl\")\n",
    "            if os.path.isfile(pkl_path):\n",
    "                subject_dirs.append(name)\n",
    "\n",
    "subject_dirs = sorted(subject_dirs, key=lambda s: int(s[1:]))\n",
    "\n",
    "if not subject_dirs:\n",
    "    raise FileNotFoundError(\"No se encontraron sujetos válidos en la carpeta especificada.\")\n",
    "\n",
    "print(f\"Sujetos detectados: {subject_dirs}\")"
   ]
  },
  {
   "cell_type": "code",
   "execution_count": null,
   "id": "9db9105b",
   "metadata": {},
   "outputs": [
    {
     "name": "stdout",
     "output_type": "stream",
     "text": [
      "Shape final: (1105, 20)\n",
      "subject  label\n",
      "S10      1        39\n",
      "         2        24\n",
      "         3        12\n",
      "S11      1        40\n",
      "         2        23\n",
      "         3        13\n",
      "S13      1        40\n",
      "         2        22\n",
      "         3        13\n",
      "S14      1        40\n",
      "         2        22\n",
      "         3        13\n",
      "S15      1        39\n",
      "         2        23\n",
      "         3        13\n",
      "S16      1        39\n",
      "         2        22\n",
      "         3        12\n",
      "S17      1        39\n",
      "         2        24\n",
      "         3        12\n",
      "S2       1        38\n",
      "         2        21\n",
      "         3        12\n",
      "S3       1        38\n",
      "         2        22\n",
      "         3        13\n",
      "S4       1        39\n",
      "         2        21\n",
      "         3        12\n",
      "S5       1        40\n",
      "         2        21\n",
      "         3        12\n",
      "S6       1        39\n",
      "         2        22\n",
      "         3        12\n",
      "S7       1        39\n",
      "         2        21\n",
      "         3        13\n",
      "S8       1        39\n",
      "         2        23\n",
      "         3        12\n",
      "S9       1        39\n",
      "         2        21\n",
      "         3        12\n",
      "dtype: int64\n"
     ]
    }
   ],
   "source": [
    "# 2) Carga de señales (por sujeto)\n",
    "all_rows = []\n",
    "for subj in subject_dirs:\n",
    "    pkl_path = os.path.join(PATH_BASE, subj, f\"{subj}.pkl\")\n",
    "    with open(pkl_path, 'rb') as f:\n",
    "        data = pickle.load(f, encoding='latin1')\n",
    "\n",
    "    labels = data['label']\n",
    "    temp_signal = data['signal']['wrist']['TEMP'].flatten()\n",
    "    eda_signal = data['signal']['wrist']['EDA'].flatten()\n",
    "    bvp_signal = data['signal']['wrist']['BVP'].flatten()\n",
    "\n",
    "    # Downsample labels 700Hz → 4Hz\n",
    "    resampled_labels = labels[::int(700/FS_TARGET)]\n",
    "\n",
    "    # Downsample BVP 64Hz → 4Hz\n",
    "    bvp_down = bvp_signal[::int(64/FS_TARGET)]\n",
    "\n",
    "    # Ajustar longitudes iguales\n",
    "    min_len = min(len(temp_signal), len(eda_signal), len(bvp_down), len(resampled_labels))\n",
    "    temp_signal = temp_signal[:min_len]\n",
    "    eda_signal = eda_signal[:min_len]\n",
    "    bvp_down = bvp_down[:min_len]\n",
    "    resampled_labels = resampled_labels[:min_len]\n",
    "\n",
    "    # 3) Ventaneo\n",
    "    window_size = FS_TARGET * WINDOW_SEC\n",
    "    step_size = FS_TARGET * STEP_SEC\n",
    "\n",
    "    for start in range(0, len(temp_signal) - window_size, step_size):\n",
    "        end = start + window_size\n",
    "\n",
    "        temp_win = temp_signal[start:end]\n",
    "        eda_win = eda_signal[start:end]\n",
    "        bvp_win = bvp_down[start:end]\n",
    "        label_win = resampled_labels[start:end]\n",
    "\n",
    "        # 4) Asignar etiqueta a la ventana (moda)\n",
    "        lbl = int(mode(label_win, keepdims=True).mode[0])\n",
    "\n",
    "        # 5) Extraer features y almacenar si la etiqueta es 1, 2 o 3\n",
    "        if lbl in [1, 2, 3]:\n",
    "            # Por cada señal (TEMP, EDA, BVP) calcula 6 estadísticas:\n",
    "            feats = extract_features(temp_win, eda_win, bvp_win)\n",
    "            all_rows.append([subj, lbl] + feats)\n",
    "\n",
    "# 6) Construir DataFrame y mostrar resumen\n",
    "columns = [\"subject\", \"label\"] + [\n",
    "    \"temp_mean\", \"temp_std\", \"temp_max\", \"temp_min\", \"temp_range\", \"temp_deriv\",\n",
    "    \"eda_mean\", \"eda_std\", \"eda_max\", \"eda_min\", \"eda_range\", \"eda_deriv\",\n",
    "    \"bvp_mean\", \"bvp_std\", \"bvp_max\", \"bvp_min\", \"bvp_range\", \"bvp_deriv\"\n",
    "]\n",
    "\n",
    "df = pd.DataFrame(all_rows, columns=columns)\n",
    "\n",
    "print(\"Shape final:\", df.shape)\n",
    "print(df.groupby([\"subject\", \"label\"]).size())"
   ]
  },
  {
   "cell_type": "code",
   "execution_count": 4,
   "id": "9b5d8316",
   "metadata": {},
   "outputs": [
    {
     "name": "stdout",
     "output_type": "stream",
     "text": [
      "Archivo guardado: features_raw.csv\n"
     ]
    }
   ],
   "source": [
    "# 7) Guardar en un CSV\n",
    "out_csv = \"features_raw.csv\"\n",
    "df.to_csv(out_csv, index=False)\n",
    "print(f\"Archivo guardado: {out_csv}\")"
   ]
  }
 ],
 "metadata": {
  "kernelspec": {
   "display_name": "Python 3",
   "language": "python",
   "name": "python3"
  },
  "language_info": {
   "codemirror_mode": {
    "name": "ipython",
    "version": 3
   },
   "file_extension": ".py",
   "mimetype": "text/x-python",
   "name": "python",
   "nbconvert_exporter": "python",
   "pygments_lexer": "ipython3",
   "version": "3.12.7"
  }
 },
 "nbformat": 4,
 "nbformat_minor": 5
}
