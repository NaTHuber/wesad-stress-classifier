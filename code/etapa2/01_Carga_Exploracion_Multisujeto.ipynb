{
 "cells": [
  {
   "cell_type": "markdown",
   "id": "02dead14",
   "metadata": {},
   "source": [
    "# Etapa 2 - Paso 1: Carga y exploración multi-sujeto (WESAD)\n",
    "\n",
    "\n",
    "```mermaid\n",
    "    graph LR\n",
    "        A[1 <br> Detecta carpetas de sujetos automáticamente]-->B[ 2 <br> Cargar y contar etiquetas por sujeto]\n",
    "        B-->C[3 <br>Guardar tabla de conteos 0-7 y 1,2,3]\n",
    "        C-->D[4 <br>Graficar barras apiladas 0..7 por sujeto]\n",
    "        D-->E[5 <br>Gráfico normalizado para etiquetas 1,2,3]\n",
    "        E-->F[6 <br>Impresión de resumen por consola]\n",
    "```"
   ]
  },
  {
   "cell_type": "code",
   "execution_count": null,
   "id": "5e128069",
   "metadata": {},
   "outputs": [
    {
     "name": "stdout",
     "output_type": "stream",
     "text": [
      "Sujetos detectados: ['S2', 'S3', 'S4', 'S5', 'S6', 'S7', 'S8', 'S9', 'S10', 'S11', 'S13', 'S14', 'S15', 'S16', 'S17']\n"
     ]
    }
   ],
   "source": [
    "import os\n",
    "import re\n",
    "import pickle\n",
    "import numpy as np\n",
    "import matplotlib.pyplot as plt\n",
    "from collections import Counter\n",
    "import csv\n",
    "\n",
    "# 0) Configuración inicial\n",
    "PATH_BASE = r\"C:/Users/nat27/Desktop/Desktop/Proyectos/CienciaDatos/wesad-stress-classifier/data/WESAD\"\n",
    "\n",
    "# Excluir sujetos que no tienen datos \n",
    "EXCLUDE = {\"S1\", \"S12\"}  \n",
    "\n",
    "# 1) Detecta carpetas de sujetos automáticamente\n",
    "subject_dirs = []\n",
    "if os.path.isdir(PATH_BASE):\n",
    "    for name in os.listdir(PATH_BASE):\n",
    "        if re.fullmatch(r\"S\\d+\", name) and name not in EXCLUDE:\n",
    "            # Confirmar que existe el .pkl\n",
    "            pkl_path = os.path.join(PATH_BASE, name, f\"{name}.pkl\")\n",
    "            if os.path.isfile(pkl_path):\n",
    "                subject_dirs.append(name)\n",
    "\n",
    "subject_dirs = sorted(subject_dirs, key=lambda s: int(s[1:]))\n",
    "\n",
    "if not subject_dirs:\n",
    "    raise FileNotFoundError(\n",
    "        f\"No se encontraron sujetos válidos en {PATH_BASE}. \"\n",
    "        \"Verifica la ruta PATH_BASE o la estructura de carpetas.\"\n",
    "    )\n",
    "\n",
    "print(f\"Sujetos detectados: {subject_dirs}\")"
   ]
  },
  {
   "cell_type": "code",
   "execution_count": null,
   "id": "31cc9b9f",
   "metadata": {},
   "outputs": [
    {
     "name": "stdout",
     "output_type": "stream",
     "text": [
      "Tablas guardadas: labels_por_sujeto_0a7.csv, labels_por_sujeto_123.csv\n"
     ]
    }
   ],
   "source": [
    "# 2) Cargar y contar etiquetas por sujeto\n",
    "\n",
    "all_labels = list(range(8))  # 0..7 según WESAD\n",
    "labels_distribution = {}     # { 'S2': Counter({...}), ... }\n",
    "\n",
    "for subj in subject_dirs:\n",
    "    pkl_path = os.path.join(PATH_BASE, subj, f\"{subj}.pkl\")\n",
    "    with open(pkl_path, 'rb') as f:\n",
    "        data = pickle.load(f, encoding='latin1')\n",
    "    labels = data['label']\n",
    "    labels_distribution[subj] = Counter(labels)\n",
    "\n",
    "\n",
    "# 3) Guardar tabla de conteos (0-7) y (1,2,3)\n",
    "\n",
    "csv_all = \"labels_por_sujeto_0a7.csv\"\n",
    "csv_123 = \"labels_por_sujeto_123.csv\"\n",
    "\n",
    "with open(csv_all, \"w\", newline=\"\", encoding=\"utf-8\") as f:\n",
    "    writer = csv.writer(f)\n",
    "    writer.writerow([\"subject\"] + [f\"label_{i}\" for i in all_labels] + [\"total\"])\n",
    "    for subj in subject_dirs:\n",
    "        counts = [labels_distribution[subj].get(i, 0) for i in all_labels]\n",
    "        writer.writerow([subj] + counts + [sum(counts)])\n",
    "\n",
    "with open(csv_123, \"w\", newline=\"\", encoding=\"utf-8\") as f:\n",
    "    writer = csv.writer(f)\n",
    "    writer.writerow([\"subject\", \"label_1\", \"label_2\", \"label_3\", \"total_123\"])\n",
    "    for subj in subject_dirs:\n",
    "        c1 = labels_distribution[subj].get(1, 0)\n",
    "        c2 = labels_distribution[subj].get(2, 0)\n",
    "        c3 = labels_distribution[subj].get(3, 0)\n",
    "        writer.writerow([subj, c1, c2, c3, c1 + c2 + c3])\n",
    "\n",
    "print(f\"Tablas guardadas: {csv_all}, {csv_123}\")"
   ]
  },
  {
   "cell_type": "code",
   "execution_count": null,
   "id": "b36f586e",
   "metadata": {},
   "outputs": [
    {
     "name": "stdout",
     "output_type": "stream",
     "text": [
      "Gráfico guardado: labels_por_sujeto_0a7.png\n"
     ]
    }
   ],
   "source": [
    "# 4) Graficar barras apiladas 0..7 por sujeto\n",
    "\n",
    "label_matrix = np.array([[labels_distribution[subj].get(i, 0) for i in all_labels]\n",
    "                         for subj in subject_dirs], dtype=float)\n",
    "\n",
    "fig, ax = plt.subplots(figsize=(12, 6))\n",
    "bottom = np.zeros(len(subject_dirs))\n",
    "\n",
    "for i, lbl in enumerate(all_labels):\n",
    "    ax.bar(subject_dirs, label_matrix[:, i], bottom=bottom, label=f\"Etiqueta {lbl}\")\n",
    "    bottom += label_matrix[:, i]\n",
    "\n",
    "ax.set_title(\"Distribución de etiquetas (0–7) por sujeto - WESAD\")\n",
    "ax.set_xlabel(\"Sujeto\")\n",
    "ax.set_ylabel(\"Cantidad de muestras\")\n",
    "ax.legend(ncol=4, fontsize=9)\n",
    "plt.xticks(rotation=45)\n",
    "plt.tight_layout()\n",
    "plt.savefig(\"labels_por_sujeto_0a7.png\", dpi=160)\n",
    "plt.close(fig)\n",
    "\n",
    "print(\"Gráfico guardado: labels_por_sujeto_0a7.png\")"
   ]
  },
  {
   "cell_type": "code",
   "execution_count": null,
   "id": "9e0fda73",
   "metadata": {},
   "outputs": [
    {
     "name": "stdout",
     "output_type": "stream",
     "text": [
      "Gráfico guardado: labels_por_sujeto_123_prop.png\n"
     ]
    }
   ],
   "source": [
    "# 5) Gráfico normalizado para etiquetas 1,2,3\n",
    "\n",
    "labels_123 = [1, 2, 3]\n",
    "mat_123 = np.array([[labels_distribution[subj].get(i, 0) for i in labels_123]\n",
    "                    for subj in subject_dirs], dtype=float)\n",
    "totals_123 = mat_123.sum(axis=1, keepdims=True)\n",
    "totals_123[totals_123 == 0] = 1.0  # evitar división por cero\n",
    "\n",
    "mat_norm = mat_123 / totals_123\n",
    "\n",
    "fig2, ax2 = plt.subplots(figsize=(12, 6))\n",
    "bottom = np.zeros(len(subject_dirs))\n",
    "\n",
    "for j, lbl in enumerate(labels_123):\n",
    "    ax2.bar(subject_dirs, mat_norm[:, j], bottom=bottom, label=f\"Etiqueta {lbl}\")\n",
    "    bottom += mat_norm[:, j]\n",
    "\n",
    "ax2.set_title(\"Proporción de etiquetas 1 (baseline), 2 (estrés), 3 (diversión) por sujeto\")\n",
    "ax2.set_xlabel(\"Sujeto\")\n",
    "ax2.set_ylabel(\"Proporción\")\n",
    "ax2.legend(ncol=3, fontsize=9)\n",
    "plt.xticks(rotation=45)\n",
    "plt.tight_layout()\n",
    "plt.savefig(\"labels_por_sujeto_123_prop.png\", dpi=160)\n",
    "plt.close(fig2)\n",
    "\n",
    "print(\"Gráfico guardado: labels_por_sujeto_123_prop.png\")"
   ]
  },
  {
   "cell_type": "code",
   "execution_count": null,
   "id": "de813dbf",
   "metadata": {},
   "outputs": [
    {
     "name": "stdout",
     "output_type": "stream",
     "text": [
      "\n",
      "Resumen rápido (etiquetas 1/2/3):\n",
      "  S2: 1=800800 | 2=430500 | 3=253400 | total_123=1484700\n",
      "  S3: 1=798000 | 2=448000 | 3=262500 | total_123=1508500\n",
      "  S4: 1=810601 | 2=444500 | 3=260400 | total_123=1515501\n",
      "  S5: 1=838600 | 2=451500 | 3=261800 | total_123=1551900\n",
      "  S6: 1=826000 | 2=455000 | 3=260400 | total_123=1541400\n",
      "  S7: 1=830200 | 2=448000 | 3=260401 | total_123=1538601\n",
      "  S8: 1=818300 | 2=469000 | 3=258999 | total_123=1546299\n",
      "  S9: 1=826000 | 2=451500 | 3=260400 | total_123=1537900\n",
      "  S10: 1=826000 | 2=507500 | 3=260400 | total_123=1593900\n",
      "  S11: 1=826000 | 2=476000 | 3=257600 | total_123=1559600\n",
      "  S13: 1=826001 | 2=464800 | 3=267400 | total_123=1558201\n",
      "  S14: 1=826000 | 2=472500 | 3=260401 | total_123=1558901\n",
      "  S15: 1=822500 | 2=480200 | 3=260400 | total_123=1563100\n",
      "  S16: 1=826000 | 2=471101 | 3=257600 | total_123=1554701\n",
      "  S17: 1=826700 | 2=506100 | 3=260400 | total_123=1593200\n"
     ]
    }
   ],
   "source": [
    "# 6) Impresión de resumen por consola\n",
    "\n",
    "print(\"\\nResumen rápido (etiquetas 1/2/3):\")\n",
    "for subj in subject_dirs:\n",
    "    c1 = labels_distribution[subj].get(1, 0)\n",
    "    c2 = labels_distribution[subj].get(2, 0)\n",
    "    c3 = labels_distribution[subj].get(3, 0)\n",
    "    total = c1 + c2 + c3\n",
    "    print(f\"  {subj}: 1={c1:>6} | 2={c2:>6} | 3={c3:>6} | total_123={total:>7}\")"
   ]
  }
 ],
 "metadata": {
  "kernelspec": {
   "display_name": "Python 3",
   "language": "python",
   "name": "python3"
  },
  "language_info": {
   "codemirror_mode": {
    "name": "ipython",
    "version": 3
   },
   "file_extension": ".py",
   "mimetype": "text/x-python",
   "name": "python",
   "nbconvert_exporter": "python",
   "pygments_lexer": "ipython3",
   "version": "3.12.7"
  }
 },
 "nbformat": 4,
 "nbformat_minor": 5
}
